{
 "cells": [
  {
   "cell_type": "code",
   "execution_count": 2,
   "id": "b8f7afdb-6927-479f-9c51-87fca2dabe03",
   "metadata": {},
   "outputs": [
    {
     "name": "stdout",
     "output_type": "stream",
     "text": [
      "[20, 6, 14, 2, 18, 8, 4, 10, 16]\n"
     ]
    }
   ],
   "source": [
    "# Exercise 5.23 by sriman\n",
    "numbers = [10, 3, 7, 1, 9, 4, 2, 5, 8]\n",
    "\n",
    "# Double every number first, then filter the even numbers\n",
    "result = list(filter(lambda x: x % 2 == 0, map(lambda x: x * 2, numbers)))\n",
    "\n",
    "print(result)  # Output: [20, 6, 14, 2, 18, 8, 4, 10, 16]\n"
   ]
  },
  {
   "cell_type": "code",
   "execution_count": null,
   "id": "109ff505-cb1d-4a1c-a7c1-758aefabd35b",
   "metadata": {},
   "outputs": [],
   "source": []
  }
 ],
 "metadata": {
  "kernelspec": {
   "display_name": "Python 3 (ipykernel)",
   "language": "python",
   "name": "python3"
  },
  "language_info": {
   "codemirror_mode": {
    "name": "ipython",
    "version": 3
   },
   "file_extension": ".py",
   "mimetype": "text/x-python",
   "name": "python",
   "nbconvert_exporter": "python",
   "pygments_lexer": "ipython3",
   "version": "3.12.4"
  }
 },
 "nbformat": 4,
 "nbformat_minor": 5
}
